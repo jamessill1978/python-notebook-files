{
 "cells": [
  {
   "cell_type": "code",
   "execution_count": 45,
   "metadata": {},
   "outputs": [],
   "source": [
    "import json\n",
    "import geojson\n",
    "import arcgis\n",
    "from arcgis import GIS"
   ]
  },
  {
   "cell_type": "code",
   "execution_count": 46,
   "metadata": {},
   "outputs": [],
   "source": [
    "### Open local json file"
   ]
  },
  {
   "cell_type": "markdown",
   "metadata": {},
   "source": [
    "jsonFile = open(r'C:\\Users\\jame9217\\Desktop\\example.json')"
   ]
  },
  {
   "cell_type": "code",
   "execution_count": 47,
   "metadata": {},
   "outputs": [
    {
     "data": {
      "text/plain": [
       "<_io.TextIOWrapper name='C:\\\\Users\\\\jame9217\\\\Desktop\\\\example.json' mode='r' encoding='cp1252'>"
      ]
     },
     "execution_count": 47,
     "metadata": {},
     "output_type": "execute_result"
    }
   ],
   "source": [
    "jsonFile"
   ]
  },
  {
   "cell_type": "markdown",
   "metadata": {},
   "source": [
    "### Load to python Dictionary Object, view first index item of list"
   ]
  },
  {
   "cell_type": "markdown",
   "metadata": {},
   "source": [
    "loadToPython = json.load(jsonFile)"
   ]
  },
  {
   "cell_type": "code",
   "execution_count": null,
   "metadata": {},
   "outputs": [],
   "source": []
  },
  {
   "cell_type": "code",
   "execution_count": 49,
   "metadata": {},
   "outputs": [
    {
     "data": {
      "text/plain": [
       "{'DeviceName': 'Device 1',\n",
       " 'DeviceID': '10000001',\n",
       " 'Date': '2018-08-23T15:08:03-05:00',\n",
       " 'Latitude': 33.00682,\n",
       " 'Longitude': -96.64557,\n",
       " 'Type': 'GPS',\n",
       " 'Speed(mph)': 47,\n",
       " 'Speed(km/h)': 76,\n",
       " 'Direction': 90,\n",
       " 'Altitude(ft)': 692,\n",
       " 'Altitude(m)': 211,\n",
       " 'Accuracy': 10}"
      ]
     },
     "execution_count": 49,
     "metadata": {},
     "output_type": "execute_result"
    }
   ],
   "source": [
    "loadToPython[\"Data\"][0]"
   ]
  },
  {
   "cell_type": "markdown",
   "metadata": {},
   "source": [
    "### Define GeoJson structure and use json dumps to translante python dictionary to string"
   ]
  },
  {
   "cell_type": "code",
   "execution_count": 50,
   "metadata": {},
   "outputs": [],
   "source": [
    "geojson = {\n",
    "    \"type\": \"FeatureCollection\",\n",
    "    \"features\": [\n",
    "    {\n",
    "        \"type\": \"Feature\",\n",
    "        \"geometry\" : {\n",
    "            \"type\": \"Point\",\n",
    "            \"coordinates\": [d[\"Longitude\"], d[\"Latitude\"]],\n",
    "            },\n",
    "        \"properties\" : d,\n",
    "     } for d in loadToPython[\"Data\"]]\n",
    "}\n",
    "toGeoJson = json.dumps(geojson)"
   ]
  },
  {
   "cell_type": "markdown",
   "metadata": {},
   "source": [
    "### Output GeoJson"
   ]
  },
  {
   "cell_type": "code",
   "execution_count": 51,
   "metadata": {},
   "outputs": [
    {
     "data": {
      "text/plain": [
       "'{\"type\": \"FeatureCollection\", \"features\": [{\"type\": \"Feature\", \"geometry\": {\"type\": \"Point\", \"coordinates\": [-96.64557, 33.00682]}, \"properties\": {\"DeviceName\": \"Device 1\", \"DeviceID\": \"10000001\", \"Date\": \"2018-08-23T15:08:03-05:00\", \"Latitude\": 33.00682, \"Longitude\": -96.64557, \"Type\": \"GPS\", \"Speed(mph)\": 47, \"Speed(km/h)\": 76, \"Direction\": 90, \"Altitude(ft)\": 692, \"Altitude(m)\": 211, \"Accuracy\": 10}}, {\"type\": \"Feature\", \"geometry\": {\"type\": \"Point\", \"coordinates\": [-96.7658, 32.92179]}, \"properties\": {\"DeviceName\": \"Device 2\", \"DeviceID\": \"10000002\", \"Date\": \"2018-08-23T15:08:03-05:00\", \"Latitude\": 32.92179, \"Longitude\": -96.7658, \"Type\": \"GPS\", \"Speed(mph)\": 51, \"Speed(km/h)\": 82, \"Direction\": 0, \"Altitude(ft)\": 692, \"Altitude(m)\": 211, \"Accuracy\": 10}}, {\"type\": \"Feature\", \"geometry\": {\"type\": \"Point\", \"coordinates\": [-121.0689, 37.18568]}, \"properties\": {\"DeviceName\": \"Device 3\", \"DeviceID\": \"10000003\", \"Date\": \"2018-08-23T15:08:03-05:00\", \"Latitude\": 37.18568, \"Longitude\": -121.0689, \"Type\": \"GPS\", \"Speed(mph)\": 73, \"Speed(km/h)\": 117, \"Direction\": 152, \"Altitude(ft)\": 193, \"Altitude(m)\": 59, \"Accuracy\": 5}}, {\"type\": \"Feature\", \"geometry\": {\"type\": \"Point\", \"coordinates\": [-118.9528, 35.00946]}, \"properties\": {\"DeviceName\": \"Device 4\", \"DeviceID\": \"10000004\", \"Date\": \"2018-08-23T15:08:03-05:00\", \"Latitude\": 35.00946, \"Longitude\": -118.9528, \"Type\": \"GPS\", \"Speed(mph)\": 70, \"Speed(km/h)\": 113, \"Direction\": 164, \"Altitude(ft)\": 879, \"Altitude(m)\": 268, \"Accuracy\": 5}}, {\"type\": \"Feature\", \"geometry\": {\"type\": \"Point\", \"coordinates\": [-117.2853, 33.04191]}, \"properties\": {\"DeviceName\": \"Device 5\", \"DeviceID\": \"10000005\", \"Date\": \"2018-08-23T15:08:03-05:00\", \"Latitude\": 33.04191, \"Longitude\": -117.2853, \"Type\": \"GPS\", \"Speed(mph)\": 65, \"Speed(km/h)\": 105, \"Direction\": 158, \"Altitude(ft)\": 147, \"Altitude(m)\": 45, \"Accuracy\": 5}}]}'"
      ]
     },
     "execution_count": 51,
     "metadata": {},
     "output_type": "execute_result"
    }
   ],
   "source": [
    "toGeoJson"
   ]
  },
  {
   "cell_type": "code",
   "execution_count": null,
   "metadata": {},
   "outputs": [],
   "source": []
  },
  {
   "cell_type": "code",
   "execution_count": null,
   "metadata": {},
   "outputs": [],
   "source": []
  },
  {
   "cell_type": "code",
   "execution_count": 149,
   "metadata": {},
   "outputs": [],
   "source": [
    "f = open(r\"C:\\Users\\jame9217\\Desktop\\mynewJsonFile-Test3.geojson\",\"w\")\n",
    "f.write(toGeoJson)\n",
    "f.close()"
   ]
  },
  {
   "cell_type": "markdown",
   "metadata": {},
   "source": [
    "### Instantiate GIS object, log into AGOL"
   ]
  },
  {
   "cell_type": "code",
   "execution_count": 171,
   "metadata": {},
   "outputs": [
    {
     "name": "stdin",
     "output_type": "stream",
     "text": [
      "Enter password:  ·············\n"
     ]
    }
   ],
   "source": [
    "gis = GIS('https://lnr.maps.arcgis.com', 'jsill_lnr')"
   ]
  },
  {
   "cell_type": "markdown",
   "metadata": {},
   "source": [
    "### Create item in AGOL"
   ]
  },
  {
   "cell_type": "code",
   "execution_count": 151,
   "metadata": {},
   "outputs": [],
   "source": [
    "json_file = r'C:\\Users\\jame9217\\Desktop\\mynewJsonFile-Test3.geojson'\n",
    "\n",
    "properties = {'title': 'Follow Me Test 7', 'type': 'GeoJson'}\n",
    "# json_item = gis.content.add(properties, json_file)\n",
    "json_item = gis.content.add(properties, json_file)\n"
   ]
  },
  {
   "cell_type": "code",
   "execution_count": 152,
   "metadata": {},
   "outputs": [
    {
     "data": {
      "text/html": [
       "<div class=\"item_container\" style=\"height: auto; overflow: hidden; border: 1px solid #cfcfcf; border-radius: 2px; background: #f6fafa; line-height: 1.21429em; padding: 10px;\">\n",
       "                    <div class=\"item_left\" style=\"width: 210px; float: left;\">\n",
       "                       <a href='https://LNR.maps.arcgis.com/home/item.html?id=60769352871246e19ef01361c1625312' target='_blank'>\n",
       "                        <img src='http://static.arcgis.com/images/desktopapp.png' class=\"itemThumbnail\">\n",
       "                       </a>\n",
       "                    </div>\n",
       "\n",
       "                    <div class=\"item_right\"     style=\"float: none; width: auto; overflow: hidden;\">\n",
       "                        <a href='https://LNR.maps.arcgis.com/home/item.html?id=60769352871246e19ef01361c1625312' target='_blank'><b>Follow Me Test 7</b>\n",
       "                        </a>\n",
       "                        <br/><img src='https://LNR.maps.arcgis.com/home/js/jsapi/esri/css/images/item_type_icons/layers16.png' style=\"vertical-align:middle;\">GeoJson by jsill_lnr\n",
       "                        <br/>Last Modified: August 28, 2018\n",
       "                        <br/>0 comments, 0 views\n",
       "                    </div>\n",
       "                </div>\n",
       "                "
      ],
      "text/plain": [
       "<Item title:\"Follow Me Test 7\" type:GeoJson owner:jsill_lnr>"
      ]
     },
     "metadata": {},
     "output_type": "display_data"
    }
   ],
   "source": [
    "display(json_item)\n"
   ]
  },
  {
   "cell_type": "markdown",
   "metadata": {},
   "source": [
    "### Publish Item as Feature Service"
   ]
  },
  {
   "cell_type": "code",
   "execution_count": 153,
   "metadata": {},
   "outputs": [],
   "source": [
    "FollowMe_Sample_Data = json_item.publish()"
   ]
  },
  {
   "cell_type": "markdown",
   "metadata": {},
   "source": [
    "### Create web map and add layer to Map"
   ]
  },
  {
   "cell_type": "code",
   "execution_count": 186,
   "metadata": {},
   "outputs": [],
   "source": [
    "Follow_Me_WebMap = gis.map()"
   ]
  },
  {
   "cell_type": "code",
   "execution_count": 187,
   "metadata": {},
   "outputs": [
    {
     "data": {
      "application/vnd.jupyter.widget-view+json": {
       "model_id": "08dc276a53e24c8881225ecde06122c1",
       "version_major": 2,
       "version_minor": 0
      },
      "text/plain": [
       "MapView(layout=Layout(height='400px', width='100%'))"
      ]
     },
     "metadata": {},
     "output_type": "display_data"
    }
   ],
   "source": [
    "Follow_Me_WebMap"
   ]
  },
  {
   "cell_type": "code",
   "execution_count": 188,
   "metadata": {},
   "outputs": [],
   "source": [
    "new_layer = gis.content.search('Follow Me Test 7', \"Feature Layer\")"
   ]
  },
  {
   "cell_type": "code",
   "execution_count": 189,
   "metadata": {},
   "outputs": [
    {
     "data": {
      "text/plain": [
       "[<Item title:\"Follow Me Test 7\" type:Feature Layer Collection owner:jsill_lnr>]"
      ]
     },
     "execution_count": 189,
     "metadata": {},
     "output_type": "execute_result"
    }
   ],
   "source": [
    "new_layer"
   ]
  },
  {
   "cell_type": "code",
   "execution_count": 190,
   "metadata": {},
   "outputs": [],
   "source": [
    "Follow_Me_WebMap.add_layer(new_layer[0])"
   ]
  },
  {
   "cell_type": "code",
   "execution_count": null,
   "metadata": {},
   "outputs": [],
   "source": []
  },
  {
   "cell_type": "code",
   "execution_count": null,
   "metadata": {},
   "outputs": [],
   "source": []
  }
 ],
 "metadata": {
  "kernelspec": {
   "display_name": "Python 3",
   "language": "python",
   "name": "python3"
  },
  "language_info": {
   "codemirror_mode": {
    "name": "ipython",
    "version": 3
   },
   "file_extension": ".py",
   "mimetype": "text/x-python",
   "name": "python",
   "nbconvert_exporter": "python",
   "pygments_lexer": "ipython3",
   "version": "3.6.5"
  }
 },
 "nbformat": 4,
 "nbformat_minor": 2
}
