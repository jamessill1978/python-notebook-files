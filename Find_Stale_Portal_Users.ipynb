{
 "cells": [
  {
   "cell_type": "markdown",
   "metadata": {},
   "source": [
    "## Find Stale Portal Users\n",
    "This script lists any user of ArcGIS Online/Portal that is considered _stale_\n",
    "\n",
    "#### First, let's import the ArcGIS Python API & Other Required Python Modules"
   ]
  },
  {
   "cell_type": "code",
   "execution_count": 1,
   "metadata": {
    "collapsed": true
   },
   "outputs": [],
   "source": [
    "import time, datetime\n",
    "from arcgis.gis import GIS"
   ]
  },
  {
   "cell_type": "markdown",
   "metadata": {},
   "source": [
    "#### Now, let's define some input parameters\n",
    "A box will appear allowing you to enter your password. When running interactively, you will be prompted to enter a password. Hit the Enter key to continue."
   ]
  },
  {
   "cell_type": "code",
   "execution_count": 2,
   "metadata": {},
   "outputs": [],
   "source": [
    "# Enter the URL to your ArcGIS Online Organization or Portal for ArcGIS\n",
    "portalURL = 'https://org.maps.arcgis.com' # Portal Example: https://gis.domain.com/portal\n",
    "# Enter the username & password for an Administrator in your Organization\n",
    "username = 'jeremy'\n",
    "# Tell us how old a user should be, in days, in order for them to be considered stale\n",
    "daysOlderThan = 365"
   ]
  },
  {
   "cell_type": "markdown",
   "metadata": {},
   "source": [
    "#### Next, let's find out how many users are in our Organization\n",
    "*Note*: the default user search is for 100 users, we are overriding that to 1000 users below"
   ]
  },
  {
   "cell_type": "code",
   "execution_count": 3,
   "metadata": {},
   "outputs": [
    {
     "name": "stdout",
     "output_type": "stream",
     "text": [
      "Enter password: ········\n",
      "Total Portal Users: 65\n"
     ]
    }
   ],
   "source": [
    "gis = GIS(portalURL, username)\n",
    "allUsers = gis.users.search(max_users=1000)\n",
    "print('Total Portal Users: ' + str(len(allUsers)))"
   ]
  },
  {
   "cell_type": "markdown",
   "metadata": {},
   "source": [
    "#### Now, let's find the stale users..."
   ]
  },
  {
   "cell_type": "code",
   "execution_count": 8,
   "metadata": {
    "scrolled": true
   },
   "outputs": [],
   "source": [
    "staleUsers = []\n",
    "for user in allUsers:\n",
    "    if user.lastLogin > 0: #User has logged in \n",
    "        lastLoginDate = datetime.datetime.strptime(time.ctime(user.lastLogin/1000), \"%a %b %d %H:%M:%S %Y\")\n",
    "        if lastLoginDate < datetime.datetime.now()-datetime.timedelta(days = daysOlderThan): # User is stale\n",
    "            if len(user.groups) == 0 and len(user.items()) == 0: # User not a member of any groups and does not own content\n",
    "                staleUsers.append(user)"
   ]
  },
  {
   "cell_type": "code",
   "execution_count": null,
   "metadata": {
    "scrolled": true
   },
   "outputs": [],
   "source": [
    "#### Let's see who's stale\n",
    "for user in staleUsers:\n",
    "    print('Deleting: {}'.format(user.username))\n",
    "    user.delete()"
   ]
  }
 ],
 "metadata": {
  "kernelspec": {
   "display_name": "Python 3",
   "language": "python",
   "name": "python3"
  },
  "language_info": {
   "codemirror_mode": {
    "name": "ipython",
    "version": 3
   },
   "file_extension": ".py",
   "mimetype": "text/x-python",
   "name": "python",
   "nbconvert_exporter": "python",
   "pygments_lexer": "ipython3",
   "version": "3.6.2"
  }
 },
 "nbformat": 4,
 "nbformat_minor": 2
}
